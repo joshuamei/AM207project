{
 "cells": [
  {
   "cell_type": "code",
   "execution_count": 1,
   "metadata": {
    "collapsed": false
   },
   "outputs": [
    {
     "name": "stderr",
     "output_type": "stream",
     "text": [
      "//anaconda/lib/python2.7/site-packages/matplotlib/__init__.py:872: UserWarning: axes.color_cycle is deprecated and replaced with axes.prop_cycle; please use the latter.\n",
      "  warnings.warn(self.msg_depr % (key, alt_key))\n"
     ]
    }
   ],
   "source": [
    "# The %... is an iPython thing, and is not part of the Python language.\n",
    "# In this case we're just telling the plotting library to draw things on\n",
    "# the notebook, instead of on a separate window.\n",
    "%matplotlib inline\n",
    "# See all the \"as ...\" contructs? They're just aliasing the package names.\n",
    "# That way we can call methods like plt.plot() instead of matplotlib.pyplot.plot().\n",
    "import numpy as np\n",
    "import scipy as sp\n",
    "import matplotlib as mpl\n",
    "import matplotlib.cm as cm\n",
    "import matplotlib.pyplot as plt\n",
    "import pandas as pd\n",
    "import time\n",
    "import json\n",
    "pd.set_option('display.width', 500)\n",
    "pd.set_option('display.max_columns', 100)\n",
    "pd.set_option('display.notebook_repr_html', True)\n",
    "import seaborn as sns\n",
    "sns.set_style(\"whitegrid\")\n",
    "sns.set_context(\"poster\")\n",
    "import random\n",
    "import json\n",
    "import statsmodels.graphics.tsaplots as tsaplots\n",
    "import pymc as pm"
   ]
  },
  {
   "cell_type": "code",
   "execution_count": 2,
   "metadata": {
    "collapsed": true
   },
   "outputs": [],
   "source": [
    "# from pyquery import PyQuery as pq\n",
    "from bs4 import BeautifulSoup\n",
    "# The \"requests\" library makes working with HTTP requests easier\n",
    "# than the built-in urllib libraries.\n",
    "import requests\n",
    "from datetime import datetime\n",
    "from dateutil import parser\n",
    "from collections import Counter\n",
    "from itertools import groupby"
   ]
  },
  {
   "cell_type": "code",
   "execution_count": 38,
   "metadata": {
    "collapsed": false
   },
   "outputs": [
    {
     "name": "stdout",
     "output_type": "stream",
     "text": [
      "100\n",
      "200\n",
      "300\n"
     ]
    }
   ],
   "source": [
    "movies_reviewed = {}\n",
    "\n",
    "try:\n",
    "    page=requests.get(\"http://www.rottentomatoes.com/user/id/780849123/ratings\")\n",
    "    soup = BeautifulSoup(page.text, \"html.parser\")\n",
    "\n",
    "    page_reviews = soup.find_all(\"div\", attrs={\"class\":\"panel-body content_body\"})\n",
    "    movie = page_reviews[3].find_all(\"div\", attrs={\"class\":\"media-body\"})\n",
    "    num_movie = 0\n",
    "    for m in movie:\n",
    "        #Check get the number of stars\n",
    "        stars = m.find_all(\"span\", attrs ={\"class\":\"glyphicon glyphicon-star\"})\n",
    "        movie_page = requests.get(\"http://www.rottentomatoes.com/\" + m.find(\"div\", attrs={\"class\":\"media-heading\"}).find(\"a\").get(\"href\"))\n",
    "        soup = BeautifulSoup(movie_page.text, \"html.parser\")\n",
    "        genres = soup.find_all(\"span\", attrs={\"itemprop\":\"genre\"})\n",
    "        for g in genres:\n",
    "            if g.get_text() not in movies_reviewed.keys():\n",
    "                movies_reviewed[g.get_text()] = len(stars)\n",
    "            else:\n",
    "                movies_reviewed[g.get_text()] = np.hstack((movies_reviewed[g.get_text()], len(stars)))\n",
    "        num_movie += 1\n",
    "    \n",
    "        if num_movie % 100 == 0:\n",
    "            print num_movie\n",
    "        \n",
    "        if num_movie >= 300:\n",
    "            break\n",
    "        \n",
    "except Exception as e:\n",
    "    print \"Exception\""
   ]
  },
  {
   "cell_type": "code",
   "execution_count": 50,
   "metadata": {
    "collapsed": false
   },
   "outputs": [],
   "source": [
    "data_save = {}\n",
    "for k in movies_reviewed:\n",
    "    data_save[k] = list(movies_reviewed[k])"
   ]
  },
  {
   "cell_type": "code",
   "execution_count": 53,
   "metadata": {
    "collapsed": false
   },
   "outputs": [],
   "source": [
    "with open('one_user_data.json', 'w') as fp:\n",
    "    json.dump(data_save,fp)"
   ]
  },
  {
   "cell_type": "code",
   "execution_count": 55,
   "metadata": {
    "collapsed": false
   },
   "outputs": [],
   "source": [
    "with open('one_user_data.json') as data_file: \n",
    "    all_genres = json.load(data_file)"
   ]
  },
  {
   "cell_type": "code",
   "execution_count": 62,
   "metadata": {
    "collapsed": false
   },
   "outputs": [
    {
     "data": {
      "text/plain": [
       "[u'Romance',\n",
       " u'Television',\n",
       " u'Classics',\n",
       " u'Action & Adventure',\n",
       " u'Science Fiction & Fantasy',\n",
       " u'Art House & International',\n",
       " u'Mystery & Suspense',\n",
       " u'Horror',\n",
       " u'Special Interest',\n",
       " u'Sports & Fitness',\n",
       " u'Drama',\n",
       " u'Kids & Family',\n",
       " u'Animation',\n",
       " u'Western',\n",
       " u'Musical & Performing Arts',\n",
       " u'Comedy',\n",
       " u'Documentary']"
      ]
     },
     "execution_count": 62,
     "metadata": {},
     "output_type": "execute_result"
    }
   ],
   "source": [
    "dict_keys = all_genres.keys()\n",
    "dict_keys"
   ]
  },
  {
   "cell_type": "code",
   "execution_count": 63,
   "metadata": {
    "collapsed": false
   },
   "outputs": [
    {
     "data": {
      "text/plain": [
       "[2, 2, 3, 3, 0, 2, 4, 2, 2, 3, 2, 2, 3, 3, 4]"
      ]
     },
     "execution_count": 63,
     "metadata": {},
     "output_type": "execute_result"
    }
   ],
   "source": [
    "all_genres[dict_keys[0]]"
   ]
  },
  {
   "cell_type": "code",
   "execution_count": null,
   "metadata": {
    "collapsed": true
   },
   "outputs": [],
   "source": []
  }
 ],
 "metadata": {
  "kernelspec": {
   "display_name": "Python 2",
   "language": "python",
   "name": "python2"
  },
  "language_info": {
   "codemirror_mode": {
    "name": "ipython",
    "version": 2
   },
   "file_extension": ".py",
   "mimetype": "text/x-python",
   "name": "python",
   "nbconvert_exporter": "python",
   "pygments_lexer": "ipython2",
   "version": "2.7.11"
  }
 },
 "nbformat": 4,
 "nbformat_minor": 0
}
